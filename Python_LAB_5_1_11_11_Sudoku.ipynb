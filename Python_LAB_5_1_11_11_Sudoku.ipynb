{
  "nbformat": 4,
  "nbformat_minor": 0,
  "metadata": {
    "colab": {
      "name": "Python LAB 5.1.11.11: Sudoku",
      "provenance": [],
      "collapsed_sections": [],
      "include_colab_link": true
    },
    "kernelspec": {
      "name": "python3",
      "display_name": "Python 3"
    }
  },
  "cells": [
    {
      "cell_type": "markdown",
      "metadata": {
        "id": "view-in-github",
        "colab_type": "text"
      },
      "source": [
        "<a href=\"https://colab.research.google.com/github/zhulfibajra/Github/blob/master/Python_LAB_5_1_11_11_Sudoku.ipynb\" target=\"_parent\"><img src=\"https://colab.research.google.com/assets/colab-badge.svg\" alt=\"Open In Colab\"/></a>"
      ]
    },
    {
      "cell_type": "markdown",
      "metadata": {
        "id": "Eo2FZG2A6_Ql",
        "colab_type": "text"
      },
      "source": [
        "#0. Sudoku\n",
        "Sebelum kita memasuki program, kita harus memahami aturan sudoku itu bagaimana\n",
        "\n",
        "Sudoku juga dikenal Number Place atau Nanpure, adalah sejenis teka-teki logika. Tujuannya adalah untuk mengisikan angka-angka dari 1 sampai 9 ke dalam jaring-jaring 9×9 yang terdiri dari 9 kotak 3×3 tanpa ada angka yang berulang di satu baris, kolom atau kotak. Pertama kali diterbitkan di sebuah surat kabar Prancis pada 1895 dan mungkin dipengaruhi oleh matematikawan Swiss Leonhard Euler, yang membuat terkenal Latin square.\n",
        "\n",
        "Versi modern permainan ini dimulai di Indianapolis pada 1979. Kemudian menjadi terkenal kembali di Jepang pada 1986, ketika penerbit Nikoli menemukan teka-teki ini yang diciptakan Howard Garns.\n",
        "\n",
        "Nama \"Sudoku\" adalah singkatan bahasa Jepang dari \"Suuji wa dokushin ni kagiru\" (数字は独身に限る), artinya \"angka-angkanya harus tetap tunggal\".\n",
        "\n",
        "sumber : wikipedia\n",
        "\n",
        "![alt text](https://i.imgur.com/Tp2Ahkm.jpg)\n",
        "\n",
        "Konsep sudoku adalah, \n",
        "tiap baris akan di-isi angka 1 sampai 9 masing2 sekali\n",
        "tiap kolom akan di-isi angka 1 sampai 9 masing2 sekali\n",
        "tiap kotak akan di-isi angka 1 sampai 9 masing2 sekali\n",
        "\n",
        "dibawah ini adlaah contoh sudoku yang telah terselesaikan dengan benar\n",
        "\n",
        "![alt text](data:image/png;base64,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)"
      ]
    },
    {
      "cell_type": "markdown",
      "metadata": {
        "id": "DqWxlbCUXH4e",
        "colab_type": "text"
      },
      "source": [
        "#1. Input\n",
        "\n",
        "Input yang kita gunakan langsung saya copas dari netacad yakni :\n",
        "\n",
        "295743861 431865927 876192543 387459216 612387495 549216738 763524189 928671354 154938672"
      ]
    },
    {
      "cell_type": "code",
      "metadata": {
        "id": "vsqv4ZVAKajX",
        "colab_type": "code",
        "outputId": "b336475d-0a6d-4352-a440-099070f1c960",
        "colab": {
          "base_uri": "https://localhost:8080/",
          "height": 34
        }
      },
      "source": [
        "#Ambil inputnya\n",
        "inp = list(map(int, input().split())) "
      ],
      "execution_count": 0,
      "outputs": [
        {
          "output_type": "stream",
          "text": [
            "295743861 431865927 876192543 387459216 612387495 549216738 763524189 928671354 154938672\n"
          ],
          "name": "stdout"
        }
      ]
    },
    {
      "cell_type": "markdown",
      "metadata": {
        "id": "4W8Q53PlacIc",
        "colab_type": "text"
      },
      "source": [
        "#2. Ubah menjadi multi-dimensional list\n",
        "Kita ubah inputan tadi menjadi multi dimensional list.. saya berikan 2 metode, metode 1 yang cepat, metode 2 yang agak slow"
      ]
    },
    {
      "cell_type": "code",
      "metadata": {
        "id": "7KRX06dzaUZt",
        "colab_type": "code",
        "outputId": "6043e10f-0a0c-4dd0-f0cd-0342e972840c",
        "colab": {
          "base_uri": "https://localhost:8080/",
          "height": 170
        }
      },
      "source": [
        "# Metode 1. cara cepat\n",
        "board = []\n",
        "for row in inp:\n",
        "  board.append([int(d) for d in str(row)]) # kita ambil tiap digit dari tiap baris\n",
        "print(*board,sep ='\\n') # ini agar menampilkan list dimana tiap list nya diberikan newline"
      ],
      "execution_count": 0,
      "outputs": [
        {
          "output_type": "stream",
          "text": [
            "[2, 9, 5, 7, 4, 3, 8, 6, 1]\n",
            "[4, 3, 1, 8, 6, 5, 9, 2, 7]\n",
            "[8, 7, 6, 1, 9, 2, 5, 4, 3]\n",
            "[3, 8, 7, 4, 5, 9, 2, 1, 6]\n",
            "[6, 1, 2, 3, 8, 7, 4, 9, 5]\n",
            "[5, 4, 9, 2, 1, 6, 7, 3, 8]\n",
            "[7, 6, 3, 5, 2, 4, 1, 8, 9]\n",
            "[9, 2, 8, 6, 7, 1, 3, 5, 4]\n",
            "[1, 5, 4, 9, 3, 8, 6, 7, 2]\n"
          ],
          "name": "stdout"
        }
      ]
    },
    {
      "cell_type": "code",
      "metadata": {
        "id": "LOFI4rxfaN4x",
        "colab_type": "code",
        "outputId": "f38b32aa-c8d5-484c-8f0a-71a80281f84d",
        "colab": {
          "base_uri": "https://localhost:8080/",
          "height": 170
        }
      },
      "source": [
        "# Metode 2. lebih mudah\n",
        "board2 = []\n",
        "for row in inp:\n",
        "  row_temp = []\n",
        "  for i in range(9):\n",
        "    row_temp.append(int(row / 10**(8-i)) % 10) # kita ambil tiap digit dari tiap baris\n",
        "  board2.append(row_temp)\n",
        "  \n",
        "print(*board2,sep ='\\n') # ini agar menampilkan list dimana tiap list nya diberikan newline"
      ],
      "execution_count": 0,
      "outputs": [
        {
          "output_type": "stream",
          "text": [
            "[2, 9, 5, 7, 4, 3, 8, 6, 1]\n",
            "[4, 3, 1, 8, 6, 5, 9, 2, 7]\n",
            "[8, 7, 6, 1, 9, 2, 5, 4, 3]\n",
            "[3, 8, 7, 4, 5, 9, 2, 1, 6]\n",
            "[6, 1, 2, 3, 8, 7, 4, 9, 5]\n",
            "[5, 4, 9, 2, 1, 6, 7, 3, 8]\n",
            "[7, 6, 3, 5, 2, 4, 1, 8, 9]\n",
            "[9, 2, 8, 6, 7, 1, 3, 5, 4]\n",
            "[1, 5, 4, 9, 3, 8, 6, 7, 2]\n"
          ],
          "name": "stdout"
        }
      ]
    },
    {
      "cell_type": "markdown",
      "metadata": {
        "id": "HWBnAocparLF",
        "colab_type": "text"
      },
      "source": [
        "Kita cek, apakah 2 metode tadi menghasilkan output yang sama?"
      ]
    },
    {
      "cell_type": "code",
      "metadata": {
        "id": "WuMU9wpIaPu4",
        "colab_type": "code",
        "outputId": "c9a6cad0-8ce8-4b60-e14d-c928c29c6180",
        "colab": {
          "base_uri": "https://localhost:8080/",
          "height": 34
        }
      },
      "source": [
        "print(board==board2)"
      ],
      "execution_count": 0,
      "outputs": [
        {
          "output_type": "stream",
          "text": [
            "True\n"
          ],
          "name": "stdout"
        }
      ]
    },
    {
      "cell_type": "markdown",
      "metadata": {
        "id": "reAOGsL4axVu",
        "colab_type": "text"
      },
      "source": [
        "Jika bernilai True, berarti metode 1 dan 2 sama - sama bisa digunakan dan keduanya bisa digunakan untuk lanjut ke step 3"
      ]
    },
    {
      "cell_type": "markdown",
      "metadata": {
        "id": "33Ctnx8QbNqF",
        "colab_type": "text"
      },
      "source": [
        "#3. Algoritma\n",
        "Sudoku yang di-solve dengan benar memiliki beberapa aturan yakni:\n",
        "1. setiap baris berisi semua digit 1 - 9 masing-masing satu kali\n",
        "2. setiap kolom berisi semua digit 1 - 9 masing-masing satu kali\n",
        "3. setiap kotak 3x3 berisi semua digit 1 - 9 masing - masing satu kali\n",
        "Semisal salah satu dari 1 baris/kolom./kotak tidak memenuhi aturan tersebut, sudoku berarti salah (`false`). sedangkan jika dari awal pengecekan hingga akhir tidak ditemui pelanggaran, sudoku berarti benar (`true`)\n",
        "\n",
        "dengan begitu, berarti terdapat 9 baris, 9 kolom, dan 9 kotak yang perlu kita cek. \n",
        "\n",
        "diawal, kita set nilai `sudoku=True` , sebagai penanda, semisal nilai saat pengecekan terdapat pelanggaran aturan, sudoku langsung bernilai `False`\n"
      ]
    },
    {
      "cell_type": "code",
      "metadata": {
        "id": "5y4vOGl9eIk_",
        "colab_type": "code",
        "colab": {}
      },
      "source": [
        "sudoku = True"
      ],
      "execution_count": 0,
      "outputs": []
    },
    {
      "cell_type": "markdown",
      "metadata": {
        "id": "fRHF_aKTB6jo",
        "colab_type": "text"
      },
      "source": [
        "#3.0 Cek Input\n",
        "Sebelum kita melakukan semuanya itu, kita harus mengecek, apakah input-an tadi merupakan benar-benar sudoku atau tidak? Sudoku haruslah :\n",
        "1. Memiliki tepat 9 x 9 elemen saja (81 elemen)\n",
        "2.  Tidak mengandung elemen dengan nilai = 0\n",
        "3. Tidak mengandung elemen dengan nilai > 9\n",
        "\n",
        "Kalau satu saja dari peraturan diatas tidak terpenuhi, maka inputan bukan merupakan sudoku"
      ]
    },
    {
      "cell_type": "code",
      "metadata": {
        "id": "O6_-bYAOB6Dr",
        "colab_type": "code",
        "outputId": "b66e62e3-8bfd-4d95-d75b-b74f7b570e85",
        "colab": {
          "base_uri": "https://localhost:8080/",
          "height": 34
        }
      },
      "source": [
        "if sum(len(i) for i in board) != 81: #cek aturan nomor 1\n",
        "  sudoku = False\n",
        "else: #cek aturan nomor 2 dan 3\n",
        "  for row in board:\n",
        "    for elem in row:\n",
        "      if elem == 0  or elem > 9:\n",
        "        sudoku = False\n",
        "      \n",
        "#cek apakah inputan sudah benar atau belum\n",
        "print(sudoku)"
      ],
      "execution_count": 0,
      "outputs": [
        {
          "output_type": "stream",
          "text": [
            "True\n"
          ],
          "name": "stdout"
        }
      ]
    },
    {
      "cell_type": "markdown",
      "metadata": {
        "id": "JrvuluoNdHfZ",
        "colab_type": "text"
      },
      "source": [
        "#3.1 Cek Baris\n",
        "\n",
        "Setiap baris ketika dijumlahkan pasti bernilai 45. Kok bisa? dikarenakan setiap baris hanya mengandung digit 1,2,3,4,5,6,7,8,9 masing - masing satu kali dan hasil dari penjumlahan `1+2+3+4+5+6+7+8+9 = 45`. Dan hasil ini tidak terpengaruh dengan urutan penjumlahan (misal `7+1+9+3+6+2+4+5+8` masih akan tetap berjumlah `45` )"
      ]
    },
    {
      "cell_type": "code",
      "metadata": {
        "id": "T2V0dW1Ee5pg",
        "colab_type": "code",
        "outputId": "e98197dc-fb77-4cf5-ff32-6e7fc4326f9b",
        "colab": {
          "base_uri": "https://localhost:8080/",
          "height": 170
        }
      },
      "source": [
        "for row in board:\n",
        "  if sum(row) != 45 and Sudoku == True: # sum(row) : menghitung total penjumlahan semua elemen dalam list row\n",
        "    sudoku = False\n",
        "  print(row, '=',sum(row),sudoku) # Kita cek hasil penjumlahan tiap barisnya"
      ],
      "execution_count": 0,
      "outputs": [
        {
          "output_type": "stream",
          "text": [
            "[2, 9, 5, 7, 4, 3, 8, 6, 1] = 45 True\n",
            "[4, 3, 1, 8, 6, 5, 9, 2, 7] = 45 True\n",
            "[8, 7, 6, 1, 9, 2, 5, 4, 3] = 45 True\n",
            "[3, 8, 7, 4, 5, 9, 2, 1, 6] = 45 True\n",
            "[6, 1, 2, 3, 8, 7, 4, 9, 5] = 45 True\n",
            "[5, 4, 9, 2, 1, 6, 7, 3, 8] = 45 True\n",
            "[7, 6, 3, 5, 2, 4, 1, 8, 9] = 45 True\n",
            "[9, 2, 8, 6, 7, 1, 3, 5, 4] = 45 True\n",
            "[1, 5, 4, 9, 3, 8, 6, 7, 2] = 45 True\n"
          ],
          "name": "stdout"
        }
      ]
    },
    {
      "cell_type": "markdown",
      "metadata": {
        "id": "FuA5-oLJgUN-",
        "colab_type": "text"
      },
      "source": [
        "Disini yang kita perlu perhatikan, semisal salah satu dari baris tersebut bernilai `false`, berarti sudoku sudah salah dan kita tidak perlu melanjutkan proses pengecekan, hal ini juga berlaku untuk pengecekan kolom dan kotak\n",
        "\n",
        "#3.2.1 Menukar baris dengan kolom\n",
        "Sebelum kita bisa melakukan penghitungan kolom, terdapat perbedaan mendasar dengan penghitungan baris yakni tiap list disini menyimpan nilai per baris, bukan nilai per kolom. dikarenakan itu kita perlu memutar nilai baris dengan kolom. dalam matriks hal ini bisa mudah dilakukan dengan nama 'transpose'"
      ]
    },
    {
      "cell_type": "code",
      "metadata": {
        "id": "ZpQ9OVTdbL72",
        "colab_type": "code",
        "outputId": "b397c2f2-3ffa-415f-b425-3b723589d41b",
        "colab": {
          "base_uri": "https://localhost:8080/",
          "height": 170
        }
      },
      "source": [
        "# Metode 1. menggunakan library numpy\n",
        "import numpy as np\n",
        "\n",
        "board_t = np.array(board).T.tolist()\n",
        "print(*board_t,sep='\\n')"
      ],
      "execution_count": 0,
      "outputs": [
        {
          "output_type": "stream",
          "text": [
            "[2, 4, 8, 3, 6, 5, 7, 9, 1]\n",
            "[9, 3, 7, 8, 1, 4, 6, 2, 5]\n",
            "[5, 1, 6, 7, 2, 9, 3, 8, 4]\n",
            "[7, 8, 1, 4, 3, 2, 5, 6, 9]\n",
            "[4, 6, 9, 5, 8, 1, 2, 7, 3]\n",
            "[3, 5, 2, 9, 7, 6, 4, 1, 8]\n",
            "[8, 9, 5, 2, 4, 7, 1, 3, 6]\n",
            "[6, 2, 4, 1, 9, 3, 8, 5, 7]\n",
            "[1, 7, 3, 6, 5, 8, 9, 4, 2]\n"
          ],
          "name": "stdout"
        }
      ]
    },
    {
      "cell_type": "code",
      "metadata": {
        "id": "0Q1cljPziu15",
        "colab_type": "code",
        "outputId": "93c7f0f0-4b7b-4ddc-b3c5-14a2c701abee",
        "colab": {
          "base_uri": "https://localhost:8080/",
          "height": 170
        }
      },
      "source": [
        "# Metode 2. menggunakan library pandas\n",
        "import pandas as pd\n",
        "\n",
        "board2_t = pd.DataFrame(board).T.values.tolist()\n",
        "print(*board2_t,sep='\\n')"
      ],
      "execution_count": 0,
      "outputs": [
        {
          "output_type": "stream",
          "text": [
            "[2, 4, 8, 3, 6, 5, 7, 9, 1]\n",
            "[9, 3, 7, 8, 1, 4, 6, 2, 5]\n",
            "[5, 1, 6, 7, 2, 9, 3, 8, 4]\n",
            "[7, 8, 1, 4, 3, 2, 5, 6, 9]\n",
            "[4, 6, 9, 5, 8, 1, 2, 7, 3]\n",
            "[3, 5, 2, 9, 7, 6, 4, 1, 8]\n",
            "[8, 9, 5, 2, 4, 7, 1, 3, 6]\n",
            "[6, 2, 4, 1, 9, 3, 8, 5, 7]\n",
            "[1, 7, 3, 6, 5, 8, 9, 4, 2]\n"
          ],
          "name": "stdout"
        }
      ]
    },
    {
      "cell_type": "code",
      "metadata": {
        "id": "f8dGnw0PjINf",
        "colab_type": "code",
        "outputId": "cf34d522-4d63-4834-db5b-ccc9c65b927c",
        "colab": {
          "base_uri": "https://localhost:8080/",
          "height": 170
        }
      },
      "source": [
        "# Metode 3. menggunakan built-in function zip\n",
        "\n",
        "board3_t = [list(x) for x in zip(*board)]\n",
        "print(*board3_t,sep='\\n')"
      ],
      "execution_count": 0,
      "outputs": [
        {
          "output_type": "stream",
          "text": [
            "[2, 4, 8, 3, 6, 5, 7, 9, 1]\n",
            "[9, 3, 7, 8, 1, 4, 6, 2, 5]\n",
            "[5, 1, 6, 7, 2, 9, 3, 8, 4]\n",
            "[7, 8, 1, 4, 3, 2, 5, 6, 9]\n",
            "[4, 6, 9, 5, 8, 1, 2, 7, 3]\n",
            "[3, 5, 2, 9, 7, 6, 4, 1, 8]\n",
            "[8, 9, 5, 2, 4, 7, 1, 3, 6]\n",
            "[6, 2, 4, 1, 9, 3, 8, 5, 7]\n",
            "[1, 7, 3, 6, 5, 8, 9, 4, 2]\n"
          ],
          "name": "stdout"
        }
      ]
    },
    {
      "cell_type": "code",
      "metadata": {
        "id": "EmK4KS9Djp6b",
        "colab_type": "code",
        "outputId": "6b25d184-b786-432a-9c06-e457cc2ffa5c",
        "colab": {
          "base_uri": "https://localhost:8080/",
          "height": 170
        }
      },
      "source": [
        "# Metode 4. tidak menggunakan library, ataupun function\n",
        "\n",
        "board4_t = []\n",
        "for i in range(len(board[0])):\n",
        "  temp = []\n",
        "  for row in board:\n",
        "    temp.append(row[i])\n",
        "  board4_t.append(temp)\n",
        "print(*board4_t,sep='\\n')"
      ],
      "execution_count": 0,
      "outputs": [
        {
          "output_type": "stream",
          "text": [
            "[2, 4, 8, 3, 6, 5, 7, 9, 1]\n",
            "[9, 3, 7, 8, 1, 4, 6, 2, 5]\n",
            "[5, 1, 6, 7, 2, 9, 3, 8, 4]\n",
            "[7, 8, 1, 4, 3, 2, 5, 6, 9]\n",
            "[4, 6, 9, 5, 8, 1, 2, 7, 3]\n",
            "[3, 5, 2, 9, 7, 6, 4, 1, 8]\n",
            "[8, 9, 5, 2, 4, 7, 1, 3, 6]\n",
            "[6, 2, 4, 1, 9, 3, 8, 5, 7]\n",
            "[1, 7, 3, 6, 5, 8, 9, 4, 2]\n"
          ],
          "name": "stdout"
        }
      ]
    },
    {
      "cell_type": "markdown",
      "metadata": {
        "id": "T4_fIJkzkWy9",
        "colab_type": "text"
      },
      "source": [
        "Kita cek dari 4 metode tersebut apakah semuanya menghasilkan list yang sama?"
      ]
    },
    {
      "cell_type": "code",
      "metadata": {
        "id": "tCY1SspTke0a",
        "colab_type": "code",
        "outputId": "15270c8a-ab32-4791-b467-80d00e3cf57c",
        "colab": {
          "base_uri": "https://localhost:8080/",
          "height": 119
        }
      },
      "source": [
        "print('metode 1 dengan 2 :',board_t  == board2_t)\n",
        "print('metode 1 dengan 3 :',board_t  == board3_t)\n",
        "print('metode 1 dengan 4 :',board_t  == board4_t)\n",
        "print('metode 2 dengan 3 :',board2_t == board3_t)\n",
        "print('metode 2 dengan 4 :',board2_t == board4_t)\n",
        "print('metode 3 dengan 4 :',board3_t == board4_t)"
      ],
      "execution_count": 0,
      "outputs": [
        {
          "output_type": "stream",
          "text": [
            "metode 1 dengan 2 : True\n",
            "metode 1 dengan 3 : True\n",
            "metode 1 dengan 4 : True\n",
            "metode 2 dengan 3 : True\n",
            "metode 2 dengan 4 : True\n",
            "metode 3 dengan 4 : True\n"
          ],
          "name": "stdout"
        }
      ]
    },
    {
      "cell_type": "markdown",
      "metadata": {
        "id": "C83bUDAbezbJ",
        "colab_type": "text"
      },
      "source": [
        "Jika semaunya bernilai True, berarti metode 1,2,3, ataupun 4 sama - sama bisa digunakan dan keduanya bisa digunakan untuk lanjut ke step 3.2 yang sebetulnya\n",
        "\n",
        "#3.2.2 Cek Kolom\n",
        "Dengan metode yang sama dengan cek baris, kita bisa menghitung hasil penjumlahan dari tiap kolom"
      ]
    },
    {
      "cell_type": "code",
      "metadata": {
        "id": "lTUmSHe7lJ2y",
        "colab_type": "code",
        "outputId": "43e00687-015c-42b4-a165-24a7710344f3",
        "colab": {
          "base_uri": "https://localhost:8080/",
          "height": 170
        }
      },
      "source": [
        "for col in board_t:\n",
        "  if sum(col) != 45 and Sudoku == True: # sum(col) : menghitung total penjumlahan semua elemen dalam list col\n",
        "    sudoku = False\n",
        "  print(col, '=',sum(col),sudoku) # Kita cek hasil penjumlahan tiap kolomnya"
      ],
      "execution_count": 0,
      "outputs": [
        {
          "output_type": "stream",
          "text": [
            "[2, 4, 8, 3, 6, 5, 7, 9, 1] = 45 True\n",
            "[9, 3, 7, 8, 1, 4, 6, 2, 5] = 45 True\n",
            "[5, 1, 6, 7, 2, 9, 3, 8, 4] = 45 True\n",
            "[7, 8, 1, 4, 3, 2, 5, 6, 9] = 45 True\n",
            "[4, 6, 9, 5, 8, 1, 2, 7, 3] = 45 True\n",
            "[3, 5, 2, 9, 7, 6, 4, 1, 8] = 45 True\n",
            "[8, 9, 5, 2, 4, 7, 1, 3, 6] = 45 True\n",
            "[6, 2, 4, 1, 9, 3, 8, 5, 7] = 45 True\n",
            "[1, 7, 3, 6, 5, 8, 9, 4, 2] = 45 True\n"
          ],
          "name": "stdout"
        }
      ]
    },
    {
      "cell_type": "markdown",
      "metadata": {
        "id": "OPEKFdjtlmRZ",
        "colab_type": "text"
      },
      "source": [
        "#3.3.1 Mengkelompokkan Kotak\n",
        "Melakukan pengecekan kotak akan lebih rumit dibandingkan baris dan kolom, karena kita tidak mengambil keseluruhan nilai dari tiap baris ataupun kolom, melainkan hanya 3 nilai dari tiap baris pada kolom yang sama"
      ]
    },
    {
      "cell_type": "code",
      "metadata": {
        "id": "gYNHOXepzMfq",
        "colab_type": "code",
        "outputId": "ef1b9a70-9981-4ac6-ed81-9ff1f669e4d9",
        "colab": {
          "base_uri": "https://localhost:8080/",
          "height": 170
        }
      },
      "source": [
        "# Metode 1. Menggunakan numpy\n",
        "\n",
        "board_k = []\n",
        "for i in range(0,9,3):\n",
        "  for j in range(0,9,3):\n",
        "    board_k.append(np.array(board)[j:j+3,i:i+3].tolist())\n",
        "\n",
        "print(*board_k,sep='\\n')"
      ],
      "execution_count": 0,
      "outputs": [
        {
          "output_type": "stream",
          "text": [
            "[[2, 9, 5], [4, 3, 1], [8, 7, 6]]\n",
            "[[3, 8, 7], [6, 1, 2], [5, 4, 9]]\n",
            "[[7, 6, 3], [9, 2, 8], [1, 5, 4]]\n",
            "[[7, 4, 3], [8, 6, 5], [1, 9, 2]]\n",
            "[[4, 5, 9], [3, 8, 7], [2, 1, 6]]\n",
            "[[5, 2, 4], [6, 7, 1], [9, 3, 8]]\n",
            "[[8, 6, 1], [9, 2, 7], [5, 4, 3]]\n",
            "[[2, 1, 6], [4, 9, 5], [7, 3, 8]]\n",
            "[[1, 8, 9], [3, 5, 4], [6, 7, 2]]\n"
          ],
          "name": "stdout"
        }
      ]
    },
    {
      "cell_type": "code",
      "metadata": {
        "id": "mReMM1dawY5A",
        "colab_type": "code",
        "outputId": "14e896f3-13ac-4078-c9ac-c8123c593c02",
        "colab": {
          "base_uri": "https://localhost:8080/",
          "height": 170
        }
      },
      "source": [
        "# Metode 2. Menggunakan nested-looping for\n",
        "\n",
        "board2_k = []\n",
        "for i in range(0,9,3):\n",
        "  for j in range(0,9,3):\n",
        "    board2_k.append([k[j:j+3] for k in board[i:i+3]])\n",
        "\n",
        "print(*board2_k,sep='\\n')"
      ],
      "execution_count": 0,
      "outputs": [
        {
          "output_type": "stream",
          "text": [
            "[[2, 9, 5], [4, 3, 1], [8, 7, 6]]\n",
            "[[7, 4, 3], [8, 6, 5], [1, 9, 2]]\n",
            "[[8, 6, 1], [9, 2, 7], [5, 4, 3]]\n",
            "[[3, 8, 7], [6, 1, 2], [5, 4, 9]]\n",
            "[[4, 5, 9], [3, 8, 7], [2, 1, 6]]\n",
            "[[2, 1, 6], [4, 9, 5], [7, 3, 8]]\n",
            "[[7, 6, 3], [9, 2, 8], [1, 5, 4]]\n",
            "[[5, 2, 4], [6, 7, 1], [9, 3, 8]]\n",
            "[[1, 8, 9], [3, 5, 4], [6, 7, 2]]\n"
          ],
          "name": "stdout"
        }
      ]
    },
    {
      "cell_type": "code",
      "metadata": {
        "id": "EnbHdKaqntfH",
        "colab_type": "code",
        "outputId": "1358aead-f12e-4c86-fa89-d03128023a91",
        "colab": {
          "base_uri": "https://localhost:8080/",
          "height": 170
        }
      },
      "source": [
        "# Metode 3. Manual \n",
        "\n",
        "board3_k = []\n",
        "board3_k.append([k[0:3] for k in board[0:3]])\n",
        "board3_k.append([k[3:6] for k in board[0:3]])\n",
        "board3_k.append([k[6:9] for k in board[0:3]])\n",
        "board3_k.append([k[0:3] for k in board[3:6]])\n",
        "board3_k.append([k[3:6] for k in board[3:6]])\n",
        "board3_k.append([k[6:9] for k in board[3:6]])\n",
        "board3_k.append([k[0:3] for k in board[6:9]])\n",
        "board3_k.append([k[3:6] for k in board[6:9]])\n",
        "board3_k.append([k[6:9] for k in board[6:9]])\n",
        "\n",
        "print(*board3_k,sep='\\n')"
      ],
      "execution_count": 0,
      "outputs": [
        {
          "output_type": "stream",
          "text": [
            "[[2, 9, 5], [4, 3, 1], [8, 7, 6]]\n",
            "[[7, 4, 3], [8, 6, 5], [1, 9, 2]]\n",
            "[[8, 6, 1], [9, 2, 7], [5, 4, 3]]\n",
            "[[3, 8, 7], [6, 1, 2], [5, 4, 9]]\n",
            "[[4, 5, 9], [3, 8, 7], [2, 1, 6]]\n",
            "[[2, 1, 6], [4, 9, 5], [7, 3, 8]]\n",
            "[[7, 6, 3], [9, 2, 8], [1, 5, 4]]\n",
            "[[5, 2, 4], [6, 7, 1], [9, 3, 8]]\n",
            "[[1, 8, 9], [3, 5, 4], [6, 7, 2]]\n"
          ],
          "name": "stdout"
        }
      ]
    },
    {
      "cell_type": "markdown",
      "metadata": {
        "id": "pULZD5U00oY-",
        "colab_type": "text"
      },
      "source": [
        "Kita cek dari 3 metode tersebut apakah semuanya menghasilkan list yang sama?"
      ]
    },
    {
      "cell_type": "code",
      "metadata": {
        "id": "e5fUyo41zBCZ",
        "colab_type": "code",
        "outputId": "5d6160e5-6fbf-4a0e-daf1-5ca2dde79d57",
        "colab": {
          "base_uri": "https://localhost:8080/",
          "height": 68
        }
      },
      "source": [
        "print('metode 1 dengan 2 :',board_k   == board2_k)\n",
        "print('metode 1 dengan 3 :',board_k   == board3_k)\n",
        "print('metode 2 dengan 3 :',board2_k  == board3_k)"
      ],
      "execution_count": 0,
      "outputs": [
        {
          "output_type": "stream",
          "text": [
            "metode 1 dengan 2 : False\n",
            "metode 1 dengan 3 : False\n",
            "metode 2 dengan 3 : True\n"
          ],
          "name": "stdout"
        }
      ]
    },
    {
      "cell_type": "markdown",
      "metadata": {
        "id": "SnUPp3z11A9B",
        "colab_type": "text"
      },
      "source": [
        "#3.3.2 3D List -> 2D List\n",
        "\n",
        "Metode yang digunakan masih sama, yakni menghitung hasil penjumlahan tiap kotak, tetapi kita lihat bahwa hasil pengelompokan masihlah dalam bentuk list 3D (2D untuk tiap kotak-nya), kita perlu merubahnya menjadi list 2D dulu agar dapat dilakukan penghitungan dengan metode yang sama dengan sebelumnya"
      ]
    },
    {
      "cell_type": "code",
      "metadata": {
        "id": "f2coXRHPK2aQ",
        "colab_type": "code",
        "outputId": "51c03954-d0d2-4e55-949b-c00742d7cfe6",
        "colab": {
          "base_uri": "https://localhost:8080/",
          "height": 170
        }
      },
      "source": [
        "# Metode 1. Menggunakan library itertools\n",
        "from itertools import chain\n",
        "\n",
        "board_k2 = []\n",
        "for kotak in board_k:\n",
        "  board_k2.append(list(chain.from_iterable(kotak)))\n",
        "\n",
        "print(*board_k2,sep='\\n')"
      ],
      "execution_count": 0,
      "outputs": [
        {
          "output_type": "stream",
          "text": [
            "[2, 9, 5, 4, 3, 1, 8, 7, 6]\n",
            "[3, 8, 7, 6, 1, 2, 5, 4, 9]\n",
            "[7, 6, 3, 9, 2, 8, 1, 5, 4]\n",
            "[7, 4, 3, 8, 6, 5, 1, 9, 2]\n",
            "[4, 5, 9, 3, 8, 7, 2, 1, 6]\n",
            "[5, 2, 4, 6, 7, 1, 9, 3, 8]\n",
            "[8, 6, 1, 9, 2, 7, 5, 4, 3]\n",
            "[2, 1, 6, 4, 9, 5, 7, 3, 8]\n",
            "[1, 8, 9, 3, 5, 4, 6, 7, 2]\n"
          ],
          "name": "stdout"
        }
      ]
    },
    {
      "cell_type": "code",
      "metadata": {
        "id": "qESLy_xX3VZS",
        "colab_type": "code",
        "outputId": "10ee21df-cebf-4d1b-81d4-35168bb2611f",
        "colab": {
          "base_uri": "https://localhost:8080/",
          "height": 170
        }
      },
      "source": [
        "# Metode 2. Menggunakan nested looping\n",
        "board2_k2 = []\n",
        "for kotak in board_k:\n",
        "  board2_k2.append([elem for i in kotak for elem in i])\n",
        "\n",
        "print(*board2_k2,sep='\\n')"
      ],
      "execution_count": 0,
      "outputs": [
        {
          "output_type": "stream",
          "text": [
            "[2, 9, 5, 4, 3, 1, 8, 7, 6]\n",
            "[3, 8, 7, 6, 1, 2, 5, 4, 9]\n",
            "[7, 6, 3, 9, 2, 8, 1, 5, 4]\n",
            "[7, 4, 3, 8, 6, 5, 1, 9, 2]\n",
            "[4, 5, 9, 3, 8, 7, 2, 1, 6]\n",
            "[5, 2, 4, 6, 7, 1, 9, 3, 8]\n",
            "[8, 6, 1, 9, 2, 7, 5, 4, 3]\n",
            "[2, 1, 6, 4, 9, 5, 7, 3, 8]\n",
            "[1, 8, 9, 3, 5, 4, 6, 7, 2]\n"
          ],
          "name": "stdout"
        }
      ]
    },
    {
      "cell_type": "code",
      "metadata": {
        "id": "EUnswVcr4_BJ",
        "colab_type": "code",
        "outputId": "91115b88-cef8-43ca-9905-244827e168b5",
        "colab": {
          "base_uri": "https://localhost:8080/",
          "height": 170
        }
      },
      "source": [
        "# Metode 3. Menggunakan fungsi\n",
        "def flatten(List2D):\n",
        "    new_list = []\n",
        "    for i in List2D:\n",
        "        for j in i:\n",
        "            new_list.append(j)\n",
        "    return new_list\n",
        "  \n",
        "board3_k2 = []\n",
        "for kotak in board_k:\n",
        "  board3_k2.append(flatten(kotak))\n",
        "\n",
        "print(*board3_k2,sep='\\n')"
      ],
      "execution_count": 0,
      "outputs": [
        {
          "output_type": "stream",
          "text": [
            "[2, 9, 5, 4, 3, 1, 8, 7, 6]\n",
            "[3, 8, 7, 6, 1, 2, 5, 4, 9]\n",
            "[7, 6, 3, 9, 2, 8, 1, 5, 4]\n",
            "[7, 4, 3, 8, 6, 5, 1, 9, 2]\n",
            "[4, 5, 9, 3, 8, 7, 2, 1, 6]\n",
            "[5, 2, 4, 6, 7, 1, 9, 3, 8]\n",
            "[8, 6, 1, 9, 2, 7, 5, 4, 3]\n",
            "[2, 1, 6, 4, 9, 5, 7, 3, 8]\n",
            "[1, 8, 9, 3, 5, 4, 6, 7, 2]\n"
          ],
          "name": "stdout"
        }
      ]
    },
    {
      "cell_type": "markdown",
      "metadata": {
        "id": "ClHlRNn748LD",
        "colab_type": "text"
      },
      "source": [
        "Kita cek dari 3 metode tersebut apakah semuanya menghasilkan list yang sama?"
      ]
    },
    {
      "cell_type": "code",
      "metadata": {
        "id": "pQ2lvspIK8MV",
        "colab_type": "code",
        "outputId": "8a1a4852-e849-4202-ef10-4435153f5214",
        "colab": {
          "base_uri": "https://localhost:8080/",
          "height": 68
        }
      },
      "source": [
        "print('metode 1 dengan 2 :',board_k2   == board2_k2)\n",
        "print('metode 1 dengan 3 :',board_k2   == board3_k2)\n",
        "print('metode 2 dengan 3 :',board2_k2  == board3_k2)"
      ],
      "execution_count": 0,
      "outputs": [
        {
          "output_type": "stream",
          "text": [
            "metode 1 dengan 2 : True\n",
            "metode 1 dengan 3 : True\n",
            "metode 2 dengan 3 : True\n"
          ],
          "name": "stdout"
        }
      ]
    },
    {
      "cell_type": "markdown",
      "metadata": {
        "id": "ie23y7AG5WB9",
        "colab_type": "text"
      },
      "source": [
        "#3.3.3 Cek Kotak\n",
        "Kita melakukan penjumlahan dengan metode yang sama dengan baris dan kolom"
      ]
    },
    {
      "cell_type": "code",
      "metadata": {
        "id": "3xtN7Mlu5drt",
        "colab_type": "code",
        "outputId": "9ba00c99-2b33-429a-eb01-a0910f06b65c",
        "colab": {
          "base_uri": "https://localhost:8080/",
          "height": 170
        }
      },
      "source": [
        "for kot in board_k2:\n",
        "  if sum(kot) != 45 and Sudoku == True: # sum(kot) : menghitung total penjumlahan semua elemen dalam list kot\n",
        "    sudoku = False\n",
        "  print(kot, '=',sum(kot),sudoku) # Kita cek hasil penjumlahan tiap kotaknya"
      ],
      "execution_count": 0,
      "outputs": [
        {
          "output_type": "stream",
          "text": [
            "[2, 9, 5, 4, 3, 1, 8, 7, 6] = 45 True\n",
            "[3, 8, 7, 6, 1, 2, 5, 4, 9] = 45 True\n",
            "[7, 6, 3, 9, 2, 8, 1, 5, 4] = 45 True\n",
            "[7, 4, 3, 8, 6, 5, 1, 9, 2] = 45 True\n",
            "[4, 5, 9, 3, 8, 7, 2, 1, 6] = 45 True\n",
            "[5, 2, 4, 6, 7, 1, 9, 3, 8] = 45 True\n",
            "[8, 6, 1, 9, 2, 7, 5, 4, 3] = 45 True\n",
            "[2, 1, 6, 4, 9, 5, 7, 3, 8] = 45 True\n",
            "[1, 8, 9, 3, 5, 4, 6, 7, 2] = 45 True\n"
          ],
          "name": "stdout"
        }
      ]
    },
    {
      "cell_type": "markdown",
      "metadata": {
        "id": "hlclgGg372pe",
        "colab_type": "text"
      },
      "source": [
        "#4. Kesimpulan\n",
        "akhirnya, kita akan mengecek apakh sudoku tadi sudah terselesaikan dengan benar, kita dapat melihat nya dari boolean sudoku yang diawal kita isi nilai `true`, jika nilai itu berubah menjadi `false`, berarti sudoku tersebut tidak berhasil/salah"
      ]
    },
    {
      "cell_type": "code",
      "metadata": {
        "id": "zp3ga6dZ8G_B",
        "colab_type": "code",
        "outputId": "c26e842f-47b0-4c06-a30e-97539deef69d",
        "colab": {
          "base_uri": "https://localhost:8080/",
          "height": 34
        }
      },
      "source": [
        "print(sudoku)"
      ],
      "execution_count": 0,
      "outputs": [
        {
          "output_type": "stream",
          "text": [
            "True\n"
          ],
          "name": "stdout"
        }
      ]
    },
    {
      "cell_type": "markdown",
      "metadata": {
        "id": "7S70CJV_8Js6",
        "colab_type": "text"
      },
      "source": [
        "dapat dilihat bahwa sudoku tadi sudah berhasil diselesaikan dengan benar. kita tinggal menggabungkan semua program diatas agar sesuai dengan permintaan soal di netacad"
      ]
    },
    {
      "cell_type": "code",
      "metadata": {
        "id": "6vgbg8PdMZzW",
        "colab_type": "code",
        "outputId": "0ead345f-863f-41ef-a97e-c0b85f7b9728",
        "colab": {
          "base_uri": "https://localhost:8080/",
          "height": 51
        }
      },
      "source": [
        "#1.\n",
        "inp = list(map(int, input().split())) \n",
        "\n",
        "#2.\n",
        "board = []\n",
        "for row in inp:\n",
        "  board.append([int(d) for d in str(row)])\n",
        "\n",
        "#3.\n",
        "sudoku = True\n",
        "\n",
        "#3.0\n",
        "if sum(len(i) for i in board) != 81:\n",
        "  sudoku = False\n",
        "else: \n",
        "  for row in board:\n",
        "    for elem in row:\n",
        "      if elem == 0  or elem > 9:\n",
        "        sudoku = False\n",
        "\n",
        "#3.1\n",
        "for row in board:\n",
        "  if sum(row) != 45 and Sudoku == True:\n",
        "    sudoku = False\n",
        "\n",
        "#3.2.1\n",
        "board_t = [list(x) for x in zip(*board)]\n",
        "#3.2.2\n",
        "for col in board_t:\n",
        "  if sum(col) != 45 and Sudoku == True:\n",
        "    sudoku = False\n",
        "\n",
        "#3.3.1\n",
        "board_k = []\n",
        "for i in range(0,9,3):\n",
        "  for j in range(0,9,3):\n",
        "    board_k.append([k[j:j+3] for k in board[i:i+3]])\n",
        "#3.3.2\n",
        "board2_k2 = []\n",
        "for kotak in board_k:\n",
        "  board2_k2.append([elem for i in kotak for elem in i])\n",
        "#3.3.3\n",
        "for kot in board_k2:\n",
        "  if sum(kot) != 45 and Sudoku == True:\n",
        "    sudoku = False\n",
        "    \n",
        "#4.\n",
        "print(sudoku)"
      ],
      "execution_count": 0,
      "outputs": [
        {
          "output_type": "stream",
          "text": [
            "195743862 431865927 876192543 387459216 612387495 549216738 763524189 928671354 254938671\n",
            "True\n"
          ],
          "name": "stdout"
        }
      ]
    },
    {
      "cell_type": "markdown",
      "metadata": {
        "id": "g8NIf2XH9nah",
        "colab_type": "text"
      },
      "source": [
        "Jikalau punya metode lain, cara lain, metode yang lebih efisien, lebih pendek, lebih mudah, lebih singkat, dll, notebook ini cuman salah satu cara untuk menyelesaikan lab tersebut. masih banyak improvement yang bisa dilakukan untuk codingan ini misalnya:\n",
        "\n",
        "- semua proses di step 3 bisa dibuat semisal mendapati nilai `sudoku = False`, proses langsung berhenti untuk menghemat resource\n",
        "- cek input dilakukan lebih awal\n",
        "- Proses penghitungan cek kotak bisa jauh lebih sederhana\n",
        "- bisa dilakukan pengecekan diawal apakah total semua elemen adalah 405 (mengapa` 405`? `1+2+3+4+5+6+7+8+9` sebanyak `9` kali berjumlah `405`)\n",
        "- jumlah board_ terlalu banyak, harusnya bisa dihemat\n",
        "- terdapat metode lain untuk melakukan beberapa step di atas (misalnya menggunakan `numpy` semua dari awal)\n",
        "\n",
        "Tetapi seperti kata peribahasa \"Sepandai-pandainya tupai melompat, akhirnya jatuh juga. Sepandai-pandainya instruktur mengkoding, akhirnya ngantuk juga\" \n",
        "\n",
        "Jangan Lupa Makan =D,\n",
        "\n",
        "Ferdinand Winstein"
      ]
    },
    {
      "cell_type": "code",
      "metadata": {
        "id": "10cA95f241hk",
        "colab_type": "code",
        "colab": {}
      },
      "source": [
        ""
      ],
      "execution_count": 0,
      "outputs": []
    }
  ]
}